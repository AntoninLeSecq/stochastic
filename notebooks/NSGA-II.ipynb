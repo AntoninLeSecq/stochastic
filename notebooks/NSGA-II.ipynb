{
 "cells": [
  {
   "cell_type": "markdown",
   "metadata": {
    "slideshow": {
     "slide_type": "slide"
    }
   },
   "source": [
    "# Stochastic Optimization\n",
    "\n",
    "## 3.3 NSGA-II\n",
    "\n",
    "<a rel=\"license\" href=\"http://creativecommons.org/licenses/by-sa/4.0/\"><img alt=\"Creative Commons License\" align=\"left\" src=\"https://i.creativecommons.org/l/by-sa/4.0/80x15.png\" /></a>&nbsp;| Dennis G. Wilson | <a href=\"https://supaerodatascience.github.io/stochastic/\">https://supaerodatascience.github.io/stochastic/</a>"
   ]
  },
  {
   "cell_type": "markdown",
   "metadata": {
    "slideshow": {
     "slide_type": "slide"
    }
   },
   "source": [
    "To explore NSGA-II, we'll use the [PyMOO](https://pymoo.org/algorithms/nsga2.html) library and a Multi-Objective Travelling Salesman Problem. For the different objectives, we'll construct random distance matrices, but we could imagine, for example, that one objective is travel time between two points and a second objective is travel cost. We want to minimize both objectives, choosing a route from the Pareto front of quick and low-cost travel."
   ]
  },
  {
   "cell_type": "code",
   "execution_count": null,
   "metadata": {
    "slideshow": {
     "slide_type": "fragment"
    }
   },
   "outputs": [],
   "source": [
    "%matplotlib inline\n",
    "import numpy as np\n",
    "import matplotlib.pyplot as plt"
   ]
  },
  {
   "cell_type": "markdown",
   "metadata": {
    "slideshow": {
     "slide_type": "slide"
    }
   },
   "source": [
    "First, we define the Multi-Objective Travelling Salesman Problem using the `ElementwiseProblem` class from `pymoo`. We'll define it to take any number of cities and objectives, returning a fitness of the total distance from each objective for the given individual. We specify a constraint on the order to ensure we're visiting each city once, but we'll also define the same operators as in the GA notebook to make sure all individuals meet this constraint."
   ]
  },
  {
   "cell_type": "code",
   "execution_count": null,
   "metadata": {
    "slideshow": {
     "slide_type": "slide"
    }
   },
   "outputs": [],
   "source": [
    "from pymoo.core.problem import ElementwiseProblem\n",
    "\n",
    "class MOTSP(ElementwiseProblem):\n",
    "    \n",
    "    def __init__(self, n_cities, n_obj):\n",
    "        # lower bound\n",
    "        xl = np.zeros(n_cities)\n",
    "        # upper bound\n",
    "        xu = (n_cities-1) * np.ones(n_cities)\n",
    "        \n",
    "        self.n_cities = n_cities\n",
    "        self.distances = []\n",
    "        for i in range(n_obj):\n",
    "            # random symmetric matrix\n",
    "            d = np.random.rand(n_cities, n_cities)\n",
    "            d = np.tril(d) + np.tril(d, -1).T\n",
    "            d[np.diag_indices(n_cities)] = 0\n",
    "            self.distances.append(d)\n",
    "        \n",
    "        super().__init__(n_var=n_cities, n_obj=n_obj, n_constr=1,\n",
    "                        xl=xl, xu=xu)\n",
    "        \n",
    "    def total_distance(self, x, d):\n",
    "        t = 0\n",
    "        for i in range(1, len(x)):\n",
    "            t += self.distances[d][x[i-1], x[i]]\n",
    "        return t\n",
    "    \n",
    "    def _evaluate(self, x, out, *args, **kwargs):\n",
    "        # fitness based on each distance matrix\n",
    "        fits = np.zeros(len(self.distances))\n",
    "        for i in range(len(self.distances)):\n",
    "            fits[i] = self.total_distance(x, i)\n",
    "        \n",
    "        # constraints return negative if met\n",
    "        c = -np.sum(np.arange(self.n_cities) != np.sort(x))\n",
    "        \n",
    "        # return by modifying out\n",
    "        out[\"F\"] = np.column_stack(fits)\n",
    "        out[\"G\"] = np.array([c])"
   ]
  },
  {
   "cell_type": "markdown",
   "metadata": {
    "slideshow": {
     "slide_type": "slide"
    }
   },
   "source": [
    "Next, we define NSGA2, its hyperparameters and operators. We'll use the same operators as before. Note that `pymoo` allows for generating fewer offspring than the initial population size and that it can check for duplicates. We'll use this second feature."
   ]
  },
  {
   "cell_type": "code",
   "execution_count": null,
   "metadata": {
    "slideshow": {
     "slide_type": "slide"
    }
   },
   "outputs": [],
   "source": [
    "from pymoo.algorithms.moo.nsga2 import NSGA2\n",
    "from pymoo.operators.crossover.erx import EdgeRecombinationCrossover\n",
    "from pymoo.operators.sampling.rnd import PermutationRandomSampling\n",
    "from pymoo.operators.mutation.inversion import InversionMutation\n",
    "\n",
    "algorithm = NSGA2(\n",
    "    pop_size=100,\n",
    "    n_offsprings=100,\n",
    "    sampling=PermutationRandomSampling(),\n",
    "    crossover=EdgeRecombinationCrossover(),\n",
    "    mutation=InversionMutation(),\n",
    "    eliminate_duplicates=True\n",
    ")"
   ]
  },
  {
   "cell_type": "markdown",
   "metadata": {
    "slideshow": {
     "slide_type": "slide"
    }
   },
   "source": [
    "To start, let's define a 50-city problem with 2 objectives. As mentioned, these could be total travel time and total travel cost. We want to minimize both objectives. Note the use of `seed=1` in the call to `minimize`: this optimization is deterministic (we can run it multiple times and get the same result)."
   ]
  },
  {
   "cell_type": "code",
   "execution_count": null,
   "metadata": {
    "slideshow": {
     "slide_type": "fragment"
    }
   },
   "outputs": [],
   "source": [
    "problem = MOTSP(50, 2)"
   ]
  },
  {
   "cell_type": "code",
   "execution_count": null,
   "metadata": {
    "slideshow": {
     "slide_type": "fragment"
    }
   },
   "outputs": [],
   "source": [
    "from pymoo.optimize import minimize\n",
    "\n",
    "res = minimize(problem,\n",
    "               algorithm,\n",
    "               (\"n_gen\", 100),\n",
    "               seed=1,\n",
    "               save_history=True,\n",
    "               verbose=False)"
   ]
  },
  {
   "cell_type": "markdown",
   "metadata": {
    "slideshow": {
     "slide_type": "slide"
    }
   },
   "source": [
    "The `res` object returned from the search contains the results, including the final Pareto front."
   ]
  },
  {
   "cell_type": "code",
   "execution_count": null,
   "metadata": {
    "slideshow": {
     "slide_type": "fragment"
    }
   },
   "outputs": [],
   "source": [
    "from pymoo.visualization.scatter import Scatter\n",
    "plot = Scatter(tight_layout=True)\n",
    "plot.add(res.F, s=10)\n",
    "plot.show();"
   ]
  },
  {
   "cell_type": "markdown",
   "metadata": {
    "slideshow": {
     "slide_type": "slide"
    }
   },
   "source": [
    "We can also visualize the convergence of each objective. We'll plot the fitness of the first individual in the Pareto front over evolution. Note that this isn't the best value for each objective independently, but rather the objective values of a single individual."
   ]
  },
  {
   "cell_type": "code",
   "execution_count": null,
   "metadata": {
    "slideshow": {
     "slide_type": "fragment"
    }
   },
   "outputs": [],
   "source": [
    "n_evals = np.array([e.evaluator.n_eval for e in res.history])\n",
    "opt = np.array([e.opt[0].F for e in res.history])\n",
    "\n",
    "plt.title(\"Convergence\")\n",
    "plt.plot(n_evals, opt)\n",
    "plt.yscale(\"log\")\n",
    "plt.show()"
   ]
  },
  {
   "cell_type": "markdown",
   "metadata": {
    "slideshow": {
     "slide_type": "slide"
    }
   },
   "source": [
    "As the number of dimensions grows, visualizing the convergence across all objectives becomes difficult. One recently proposed metric known as the \"running metric\" evaluates non-dominated sets from each generation relative to previously recorded sets. This gives an idea of how much the Pareto front has moved in any generation. For visualizing this running metric, each ND set is normalized by the final ND set after a certain number of generations. The difference between intervals then gives an idea if the algorithm is converging."
   ]
  },
  {
   "cell_type": "markdown",
   "metadata": {
    "slideshow": {
     "slide_type": "slide"
    }
   },
   "source": [
    "![Running metric](imgs/running_metric.png)\n",
    "\n",
    "Blank, Julian, and Kalyanmoy Deb. \"A running performance metric and termination criterion for evaluating evolutionary multi-and many-objective optimization algorithms.\" Proc. IEEE World Congr. Comput. Intell.(WCCI). 2020.\n",
    "\n",
    "https://www.egr.msu.edu/~kdeb/papers/c2020003.pdf"
   ]
  },
  {
   "cell_type": "code",
   "execution_count": null,
   "metadata": {
    "slideshow": {
     "slide_type": "slide"
    }
   },
   "outputs": [],
   "source": [
    "from pymoo.util.running_metric import RunningMetricAnimation\n",
    "\n",
    "running = RunningMetricAnimation(delta_gen=20,\n",
    "                        n_plots=5,\n",
    "                        key_press=False,\n",
    "                        do_show=True)\n",
    "\n",
    "for algorithm in res.history:\n",
    "    running.update(algorithm)"
   ]
  },
  {
   "cell_type": "markdown",
   "metadata": {
    "slideshow": {
     "slide_type": "slide"
    }
   },
   "source": [
    "<div class=\"alert alert-success\">\n",
    "    <h3>Exercise 1</h3>\n",
    "\n",
    "Increase the number of objectives and observe the convergence of NSGA-II. Roughly, how much does each objective change convergence speed?\n",
    "</div>"
   ]
  },
  {
   "cell_type": "markdown",
   "metadata": {
    "slideshow": {
     "slide_type": "fragment"
    }
   },
   "source": [
    "<div class=\"alert alert-success\">\n",
    "    <h3>Exercise 2</h3>\n",
    "\n",
    "Visualizing populations in many-objective optimization is also difficult. Look at the [visualization](http://pymoo.org/visualization/index.html) options in pymoo and try to visualize populations with more than 5 objectives. What plot makes most sense to you?\n",
    "</div>"
   ]
  },
  {
   "cell_type": "markdown",
   "metadata": {},
   "source": [
    "# Manufacturing Process Parameter Optimization Using NSGA-II\n",
    "\n",
    "After exploring the Multi-Objective Travelling Salesman Problem with NSGA-II, let's apply this algorithm to a practical engineering scenario: manufacturing process parameter optimization.\n",
    "\n",
    "## Problem Description\n",
    "\n",
    "In manufacturing processes, engineers often need to balance multiple competing objectives. We'll simulate a manufacturing process with three key parameters that need to be optimized:\n",
    "\n",
    "1. **Temperature** (°C): Acceptable range 150-250°C\n",
    "2. **Pressure** (MPa): Acceptable range 5-15 MPa\n",
    "3. **Processing time** (min): Acceptable range 10-30 minutes\n",
    "\n",
    "The goal is to optimize these parameters to achieve multiple objectives:\n",
    "- **Maximize production rate** (units/hour)\n",
    "- **Minimize defect rate** (%)\n",
    "- **Minimize energy consumption** (kWh)\n",
    "\n",
    "Let's start by importing the necessary libraries:"
   ]
  },
  {
   "cell_type": "code",
   "execution_count": null,
   "metadata": {},
   "outputs": [],
   "source": [
    "from pymoo.core.problem import ElementwiseProblem\n",
    "from pymoo.operators.sampling.rnd import FloatRandomSampling\n",
    "from pymoo.operators.crossover.sbx import SBX\n",
    "from pymoo.operators.mutation.pm import PM"
   ]
  },
  {
   "cell_type": "markdown",
   "metadata": {},
   "source": [
    "## Defining the Manufacturing Problem\n",
    "\n",
    "We'll now define our manufacturing process optimization problem using PyMOO's `ElementwiseProblem` class. This problem will have constraints to ensure our parameters stay within acceptable ranges.\n"
   ]
  },
  {
   "cell_type": "code",
   "execution_count": null,
   "metadata": {},
   "outputs": [],
   "source": [
    "class ManufacturingProblem(ElementwiseProblem):\n",
    "    \n",
    "    def __init__(self):\n",
    "        # Define variable bounds\n",
    "        xl = np.array([150.0, 5.0, 10.0])  # Lower bounds: [temp, pressure, time]\n",
    "        xu = np.array([250.0, 15.0, 30.0])  # Upper bounds: [temp, pressure, time]\n",
    "        \n",
    "        # Initialize the problem\n",
    "        # 3 variables (temperature, pressure, processing time)\n",
    "        # 3 objectives (production rate, defect rate, energy consumption)\n",
    "        # 0 constraints (we'll handle bounds directly)\n",
    "        super().__init__(n_var=3, n_obj=3, n_constr=0, xl=xl, xu=xu)\n",
    "    \n",
    "    def _evaluate(self, x, out, *args, **kwargs):\n",
    "        temperature, pressure, process_time = x\n",
    "        \n",
    "        # Objective 1: Production Rate (to be maximized, so we negate)\n",
    "        # Higher temperature and pressure increase production rate\n",
    "        # Longer processing time decreases production rate\n",
    "        production_rate = (\n",
    "            20 + 0.1 * (temperature - 150) \n",
    "            + 2 * (pressure - 5) \n",
    "            - 0.8 * (process_time - 10)\n",
    "        )\n",
    "        \n",
    "        # Add some non-linearity to production rate\n",
    "        production_rate += 5 * np.sin(temperature/25) * np.cos(pressure**2/9)\n",
    "        \n",
    "        # Objective 2: Defect Rate (to be minimized)\n",
    "        # Temperature and pressure have sweet spots\n",
    "        # Longer processing time generally reduces defects\n",
    "        defect_rate = 5.0\n",
    "        defect_rate += 0.05 * (temperature - 200)**2 / 25\n",
    "        defect_rate += 0.5 * (pressure - 10)**2\n",
    "        defect_rate -= 0.1 * (process_time - 10)\n",
    "        \n",
    "        # Add some non-linearity to defect rate\n",
    "        defect_rate += 2 * np.sin(temperature**3/(20**3)) * np.sin(pressure/2)\n",
    "        \n",
    "        # Bound defect rate\n",
    "        defect_rate = np.clip(defect_rate, 0, 100)\n",
    "        \n",
    "        # Objective 3: Energy Consumption (to be minimized)\n",
    "        # Higher temperatures, pressures, and longer times increase energy usage\n",
    "        energy = 10.0\n",
    "        energy += 0.2 * (temperature - 150)\n",
    "        energy += 1.5 * (pressure - 5)\n",
    "        energy += 0.5 * process_time\n",
    "        \n",
    "        # Return objectives (note: we negate production rate since NSGA-II minimizes by default)\n",
    "        out[\"F\"] = np.column_stack([\n",
    "            -production_rate,  # Negate for maximization\n",
    "            defect_rate,\n",
    "            energy\n",
    "        ])"
   ]
  },
  {
   "cell_type": "markdown",
   "metadata": {},
   "source": [
    "## Configuring and Running NSGA-II\n",
    "\n",
    "Next, we'll set up the NSGA-II algorithm with appropriate operators for our real-valued optimization problem:\n"
   ]
  },
  {
   "cell_type": "code",
   "execution_count": null,
   "metadata": {},
   "outputs": [],
   "source": [
    "# Configure NSGA-II\n",
    "algorithm = NSGA2(\n",
    "    pop_size=100,\n",
    "    n_offsprings=100,\n",
    "    sampling=FloatRandomSampling(),\n",
    "    crossover=SBX(prob=0.9, eta=15),\n",
    "    mutation=PM(eta=20),\n",
    "    eliminate_duplicates=True\n",
    ")\n",
    "\n",
    "# Create the problem instance\n",
    "problem = ManufacturingProblem()"
   ]
  },
  {
   "cell_type": "code",
   "execution_count": null,
   "metadata": {},
   "outputs": [],
   "source": [
    "# Run the optimization\n",
    "res = minimize(problem,\n",
    "               algorithm,\n",
    "               ('n_gen', 100),\n",
    "               seed=1,\n",
    "               save_history=True,\n",
    "               verbose=True)"
   ]
  },
  {
   "cell_type": "markdown",
   "metadata": {},
   "source": [
    "## Visualizing the Results\n",
    "\n",
    "Let's visualize the Pareto front obtained from our optimization:"
   ]
  },
  {
   "cell_type": "code",
   "execution_count": null,
   "metadata": {},
   "outputs": [],
   "source": [
    "# Plot the Pareto front\n",
    "scatter = Scatter(title=\"Manufacturing Process Optimization\", \n",
    "                  labels=[\"Neg. Production Rate\", \"Defect Rate\", \"Energy Consumption\"])\n",
    "scatter.add(res.F, s=10)\n",
    "scatter.show()\n",
    "\n",
    "# Create a better visualization with axis labels indicating the actual objectives\n",
    "fig = plt.figure(figsize=(10, 8))\n",
    "ax = fig.add_subplot(111, projection='3d')\n",
    "\n",
    "# Extract Pareto front points\n",
    "x = -res.F[:, 0]  # Convert back to positive production rate\n",
    "y = res.F[:, 1]   # Defect rate\n",
    "z = res.F[:, 2]   # Energy consumption\n",
    "\n",
    "# Create 3D scatter plot\n",
    "scatter = ax.scatter(x, y, z, c='blue', marker='o', alpha=0.6)\n",
    "\n",
    "# Set labels and title\n",
    "ax.set_xlabel('Production Rate (units/hour)')\n",
    "ax.set_ylabel('Defect Rate (%)')\n",
    "ax.set_zlabel('Energy Consumption (kWh)')\n",
    "ax.set_title('Pareto Front for Manufacturing Process Optimization')\n",
    "\n",
    "plt.tight_layout()\n",
    "plt.show()"
   ]
  },
  {
   "cell_type": "markdown",
   "metadata": {},
   "source": [
    "Let's extract and analyze some representative solutions from the Pareto front:"
   ]
  },
  {
   "cell_type": "code",
   "execution_count": null,
   "metadata": {},
   "outputs": [],
   "source": [
    "# Select solutions focusing on each objective\n",
    "production_focused_idx = np.argmin(res.F[:, 0])  # Best production (minimize negative)\n",
    "defect_focused_idx = np.argmin(res.F[:, 1])      # Best defect rate\n",
    "energy_focused_idx = np.argmin(res.F[:, 2])      # Best energy consumption\n",
    "\n",
    "# Create a compromise solution (closest to ideal point)\n",
    "ideal_point = np.min(res.F, axis=0)\n",
    "nadir_point = np.max(res.F, axis=0)\n",
    "normalized_F = (res.F - ideal_point) / (nadir_point - ideal_point)\n",
    "distances = np.linalg.norm(normalized_F, axis=1)\n",
    "compromise_idx = np.argmin(distances)\n",
    "\n",
    "# Extract the parameter values for these solutions\n",
    "solutions = {\n",
    "    \"Production Focused\": {\n",
    "        \"Parameters\": res.X[production_focused_idx],\n",
    "        \"Objectives\": [-res.F[production_focused_idx, 0], res.F[production_focused_idx, 1], res.F[production_focused_idx, 2]]\n",
    "    },\n",
    "    \"Defect Focused\": {\n",
    "        \"Parameters\": res.X[defect_focused_idx],\n",
    "        \"Objectives\": [-res.F[defect_focused_idx, 0], res.F[defect_focused_idx, 1], res.F[defect_focused_idx, 2]]\n",
    "    },\n",
    "    \"Energy Focused\": {\n",
    "        \"Parameters\": res.X[energy_focused_idx],\n",
    "        \"Objectives\": [-res.F[energy_focused_idx, 0], res.F[energy_focused_idx, 1], res.F[energy_focused_idx, 2]]\n",
    "    },\n",
    "    \"Compromise\": {\n",
    "        \"Parameters\": res.X[compromise_idx],\n",
    "        \"Objectives\": [-res.F[compromise_idx, 0], res.F[compromise_idx, 1], res.F[compromise_idx, 2]]\n",
    "    }\n",
    "}\n",
    "\n",
    "# Print the solutions\n",
    "print(\"Representative Solutions from the Pareto Front:\\n\")\n",
    "for name, solution in solutions.items():\n",
    "    params = solution[\"Parameters\"]\n",
    "    obj = solution[\"Objectives\"]\n",
    "    print(f\"{name} Solution:\")\n",
    "    print(f\"  Temperature: {params[0]:.2f}°C\")\n",
    "    print(f\"  Pressure: {params[1]:.2f} MPa\")\n",
    "    print(f\"  Processing Time: {params[2]:.2f} min\")\n",
    "    print(f\"  Production Rate: {obj[0]:.2f} units/hour\")\n",
    "    print(f\"  Defect Rate: {obj[1]:.2f}%\")\n",
    "    print(f\"  Energy Consumption: {obj[2]:.2f} kWh\")\n",
    "    print()"
   ]
  },
  {
   "cell_type": "markdown",
   "metadata": {},
   "source": [
    "<div class=\"alert alert-success\">\n",
    "    <h3>Exercise 3</h3>\n",
    "\n",
    "Using the [visualization](http://pymoo.org/visualization/index.html) method you used before, visualize the final results of the algorithm.\n",
    "</div>"
   ]
  },
  {
   "cell_type": "markdown",
   "metadata": {},
   "source": [
    "# Production Scheduling Optimization Using NSGA-II\n",
    "\n",
    "Next, we'll explore how to use NSGA-II to optimize a production scheduling problem. This extends our exploration of multi-objective optimization algorithms to a practical industrial engineering challenge.\n"
   ]
  },
  {
   "cell_type": "markdown",
   "metadata": {},
   "source": [
    "## Problem Description\n",
    "\n",
    "We need to determine the optimal batch sizes and sequence for producing multiple products on a single machine. This involves balancing three key objectives:\n",
    "\n",
    "1. **Total Production Cost**: Setup costs plus production costs\n",
    "2. **Makespan**: The total time required to complete all production\n",
    "3. **Tardiness**: Delays in meeting delivery due dates\n",
    "\n",
    "These objectives often conflict with each other. For example, minimizing makespan might require smaller batches, which increases setup costs and affects total production cost.\n",
    "\n",
    "Let's start by importing the required libraries and setting up our problem parameters."
   ]
  },
  {
   "cell_type": "code",
   "execution_count": null,
   "metadata": {},
   "outputs": [],
   "source": [
    "import matplotlib.pyplot as plt\n",
    "import matplotlib.patches as patches\n",
    "from matplotlib.colors import LinearSegmentedColormap\n",
    "import matplotlib.dates as mdates\n",
    "from datetime import datetime, timedelta\n",
    "\n",
    "# Import PyMOO libraries\n",
    "from pymoo.core.problem import ElementwiseProblem\n",
    "from pymoo.algorithms.moo.nsga2 import NSGA2\n",
    "from pymoo.operators.sampling.rnd import FloatRandomSampling\n",
    "from pymoo.operators.crossover.sbx import SBX\n",
    "from pymoo.operators.mutation.pm import PM\n",
    "from pymoo.optimize import minimize\n",
    "from pymoo.visualization.scatter import Scatter\n",
    "from pymoo.visualization.pcp import PCP"
   ]
  },
  {
   "cell_type": "markdown",
   "metadata": {},
   "source": [
    "## Problem Setup\n",
    "\n",
    "We'll define the parameters of our scheduling problem, including:\n",
    "\n",
    "- Number of products\n",
    "- Setup times between different products\n",
    "- Processing times for each product\n",
    "- Production costs\n",
    "- Due dates\n",
    "\n",
    "These parameters represent a realistic production environment where changeovers between different products take time and cost money, and products have different processing requirements.\n"
   ]
  },
  {
   "cell_type": "code",
   "execution_count": null,
   "metadata": {},
   "outputs": [],
   "source": [
    "# Number of products\n",
    "N_PRODUCTS = 4\n",
    "\n",
    "# Setup times between products (minutes)\n",
    "SETUP_TIMES = np.array([\n",
    "    [0, 30, 45, 60],   # From product 1 to products 1,2,3,4\n",
    "    [30, 0, 40, 50],   # From product 2 to products 1,2,3,4\n",
    "    [45, 40, 0, 35],   # From product 3 to products 1,2,3,4\n",
    "    [60, 50, 35, 0]    # From product 4 to products 1,2,3,4\n",
    "])\n",
    "\n",
    "# Processing time per unit (minutes)\n",
    "PROCESSING_TIMES = np.array([5, 7, 6, 8])\n",
    "\n",
    "# Setup cost per minute\n",
    "SETUP_COST_RATE = 2.0  # $2 per minute\n",
    "\n",
    "# Production cost per unit\n",
    "PRODUCTION_COSTS = np.array([10, 15, 12, 18])\n",
    "\n",
    "# Holding cost per unit per day\n",
    "HOLDING_COSTS = np.array([0.5, 0.8, 0.6, 1.0])\n",
    "\n",
    "# Demand for each product\n",
    "DEMAND = np.array([100, 80, 120, 60])\n",
    "\n",
    "# Due dates for each product (in days from start)\n",
    "DUE_DATES = np.array([5, 3, 7, 4])\n",
    "\n",
    "# Working hours per day\n",
    "HOURS_PER_DAY = 8"
   ]
  },
  {
   "cell_type": "markdown",
   "metadata": {},
   "source": [
    "## Solution Representation and Decoding\n",
    "\n",
    "In this multi-objective optimization problem using NSGA-II, we need a clear way to represent the solution. Our decision variables will be:\n",
    "\n",
    "1. The batch size for each product\n",
    "2. The sequence in which to produce the products\n",
    "\n",
    "Here's how we'll decode this representation:\n"
   ]
  },
  {
   "cell_type": "code",
   "execution_count": null,
   "metadata": {},
   "outputs": [],
   "source": [
    "def decode_solution(x):\n",
    "    \"\"\"\n",
    "    Decode the solution vector to batch sizes and sequence.\n",
    "    \n",
    "    x is structured as:\n",
    "    [batch_1, batch_2, ..., batch_N, seq_1, seq_2, ..., seq_N]\n",
    "    \n",
    "    where batch_i is the batch size for product i\n",
    "    and seq_i is a value used to determine the sequence\n",
    "    \"\"\"\n",
    "    n = N_PRODUCTS\n",
    "    \n",
    "    # Extract batch sizes and sequence values\n",
    "    batch_sizes = np.round(np.clip(x[:n], 0, DEMAND)).astype(int)\n",
    "    sequence_values = x[n:2*n]\n",
    "    \n",
    "    # Determine sequence by sorting the sequence values\n",
    "    sequence = np.argsort(sequence_values)\n",
    "    \n",
    "    return batch_sizes, sequence"
   ]
  },
  {
   "cell_type": "markdown",
   "metadata": {},
   "source": [
    "## Defining the Multi-Objective Problem\n",
    "\n",
    "Now we'll define our production scheduling problem as a multi-objective optimization problem using PyMOO's `ElementwiseProblem` class. This problem will have three objectives:\n"
   ]
  },
  {
   "cell_type": "code",
   "execution_count": null,
   "metadata": {},
   "outputs": [],
   "source": [
    "class ProductionSchedulingProblem(ElementwiseProblem):\n",
    "    \n",
    "    def __init__(self):\n",
    "        # Define decision variable bounds\n",
    "        # First N variables are batch sizes (0 to DEMAND)\n",
    "        # Next N variables are sequence values (no specific bounds)\n",
    "        xl = np.zeros(2 * N_PRODUCTS)\n",
    "        xu = np.ones(2 * N_PRODUCTS)\n",
    "        xu[:N_PRODUCTS] = DEMAND  # Upper bound for batch sizes\n",
    "        xu[N_PRODUCTS:] = 100     # Arbitrary upper bound for sequence values\n",
    "        \n",
    "        # Initialize the problem with 3 objectives\n",
    "        super().__init__(n_var=2*N_PRODUCTS,    # Number of decision variables\n",
    "                         n_obj=3,                # Number of objectives\n",
    "                         n_constr=0,             # Number of constraints\n",
    "                         xl=xl, xu=xu)           # Bounds on decision variables\n",
    "    \n",
    "    def _evaluate(self, x, out, *args, **kwargs):\n",
    "        \"\"\"\n",
    "        Evaluate the objectives for a given solution x.\n",
    "        \"\"\"\n",
    "        # Decode the solution\n",
    "        batch_sizes, sequence = decode_solution(x)\n",
    "        \n",
    "        # Calculate objective 1: Total Production Cost\n",
    "        cost = self._calculate_production_cost(batch_sizes, sequence)\n",
    "        \n",
    "        # Calculate objective 2: Makespan\n",
    "        span = self._calculate_makespan(batch_sizes, sequence)\n",
    "        \n",
    "        # Calculate objective 3: Tardiness\n",
    "        tardy = self._calculate_tardiness(batch_sizes, sequence)\n",
    "        \n",
    "        # Set the objective values (all to be minimized)\n",
    "        out[\"F\"] = np.array([cost, span, tardy])\n",
    "    \n",
    "    def _calculate_production_cost(self, batch_sizes, sequence):\n",
    "        \"\"\"\n",
    "        Calculate the total production cost including setup costs and production costs.\n",
    "        \"\"\"\n",
    "        # Initialize cost\n",
    "        total_cost = 0\n",
    "        \n",
    "        # Add setup costs\n",
    "        current_product = None\n",
    "        for product_idx in sequence:\n",
    "            # Skip products with zero batch size\n",
    "            if batch_sizes[product_idx] == 0:\n",
    "                continue\n",
    "                \n",
    "            if current_product is not None:\n",
    "                # Add setup cost\n",
    "                setup_time = SETUP_TIMES[current_product, product_idx]\n",
    "                setup_cost = setup_time * SETUP_COST_RATE\n",
    "                total_cost += setup_cost\n",
    "                \n",
    "            current_product = product_idx\n",
    "            \n",
    "            # Add production cost\n",
    "            production_cost = batch_sizes[product_idx] * PRODUCTION_COSTS[product_idx]\n",
    "            total_cost += production_cost\n",
    "        \n",
    "        # Penalize if all batch sizes are zero (invalid solution)\n",
    "        if np.sum(batch_sizes) == 0:\n",
    "            return 1000000\n",
    "        \n",
    "        # Penalize if not producing enough of any product\n",
    "        for i in range(N_PRODUCTS):\n",
    "            if batch_sizes[i] < DEMAND[i]:\n",
    "                shortage = DEMAND[i] - batch_sizes[i]\n",
    "                total_cost += shortage * PRODUCTION_COSTS[i] * 3  # High penalty for shortage\n",
    "        \n",
    "        return total_cost\n",
    "    \n",
    "    def _calculate_makespan(self, batch_sizes, sequence):\n",
    "        \"\"\"\n",
    "        Calculate the makespan (total production time) in minutes.\n",
    "        \"\"\"\n",
    "        # Initialize time\n",
    "        total_time = 0\n",
    "        \n",
    "        # Add setup and processing times\n",
    "        current_product = None\n",
    "        for product_idx in sequence:\n",
    "            # Skip products with zero batch size\n",
    "            if batch_sizes[product_idx] == 0:\n",
    "                continue\n",
    "                \n",
    "            if current_product is not None:\n",
    "                # Add setup time\n",
    "                total_time += SETUP_TIMES[current_product, product_idx]\n",
    "                \n",
    "            current_product = product_idx\n",
    "            \n",
    "            # Add processing time\n",
    "            total_time += batch_sizes[product_idx] * PROCESSING_TIMES[product_idx]\n",
    "        \n",
    "        # Penalize if all batch sizes are zero (invalid solution)\n",
    "        if np.sum(batch_sizes) == 0:\n",
    "            return 100000\n",
    "        \n",
    "        return total_time\n",
    "    \n",
    "    def _calculate_tardiness(self, batch_sizes, sequence):\n",
    "        \"\"\"\n",
    "        Calculate the total tardiness (sum of delays past due dates) in days.\n",
    "        \"\"\"\n",
    "        # Convert minutes to days\n",
    "        minutes_per_day = HOURS_PER_DAY * 60\n",
    "        \n",
    "        # Calculate completion time for each product\n",
    "        current_time = 0\n",
    "        current_product = None\n",
    "        completion_times = np.zeros(N_PRODUCTS)\n",
    "        \n",
    "        for product_idx in sequence:\n",
    "            # Skip products with zero batch size\n",
    "            if batch_sizes[product_idx] == 0:\n",
    "                continue\n",
    "                \n",
    "            if current_product is not None:\n",
    "                # Add setup time\n",
    "                current_time += SETUP_TIMES[current_product, product_idx]\n",
    "                \n",
    "            current_product = product_idx\n",
    "            \n",
    "            # Add processing time\n",
    "            current_time += batch_sizes[product_idx] * PROCESSING_TIMES[product_idx]\n",
    "            \n",
    "            # Record completion time\n",
    "            completion_times[product_idx] = current_time / minutes_per_day\n",
    "        \n",
    "        # Calculate tardiness (max of 0 and completion time - due date)\n",
    "        tardiness_values = np.maximum(0, completion_times - DUE_DATES)\n",
    "        \n",
    "        # Additional penalty for not producing enough\n",
    "        for i in range(N_PRODUCTS):\n",
    "            if batch_sizes[i] < DEMAND[i]:\n",
    "                tardiness_values[i] += 10  # Big penalty for not meeting demand\n",
    "        \n",
    "        return np.sum(tardiness_values)"
   ]
  },
  {
   "cell_type": "markdown",
   "metadata": {},
   "source": [
    "## Configuring NSGA-II and Running the Optimization\n",
    "\n",
    "Now we'll set up the NSGA-II algorithm with appropriate parameters and run the optimization:\n"
   ]
  },
  {
   "cell_type": "code",
   "execution_count": null,
   "metadata": {},
   "outputs": [],
   "source": [
    "# Create the problem instance\n",
    "problem = ProductionSchedulingProblem()\n",
    "\n",
    "# Configure NSGA-II algorithm\n",
    "algorithm = NSGA2(\n",
    "    pop_size=100,\n",
    "    n_offsprings=100,\n",
    "    sampling=FloatRandomSampling(),\n",
    "    crossover=SBX(prob=0.9, eta=15),\n",
    "    mutation=PM(eta=20),\n",
    "    eliminate_duplicates=True\n",
    ")"
   ]
  },
  {
   "cell_type": "code",
   "execution_count": null,
   "metadata": {},
   "outputs": [],
   "source": [
    "# Run the optimization\n",
    "res = minimize(problem,\n",
    "               algorithm,\n",
    "               ('n_gen', 100),\n",
    "               seed=1,\n",
    "               verbose=True)\n",
    "\n",
    "# Print optimization results\n",
    "print(f\"Number of non-dominated solutions: {len(res.F)}\")"
   ]
  },
  {
   "cell_type": "markdown",
   "metadata": {},
   "source": [
    "\n",
    "## Analyzing the Pareto Front\n",
    "\n",
    "After running NSGA-II, we'll have a set of non-dominated solutions forming the Pareto front. Let's analyze and visualize these results:\n"
   ]
  },
  {
   "cell_type": "code",
   "execution_count": null,
   "metadata": {},
   "outputs": [],
   "source": [
    "# Create a parallel coordinate plot to visualize the trade-offs\n",
    "pcp = PCP(title=\"\",\n",
    "         labels=[\"Production Cost ($)\", \"Makespan (min)\", \"Tardiness (days)\"])\n",
    "pcp.add(res.F)\n",
    "pcp.show();"
   ]
  },
  {
   "cell_type": "code",
   "execution_count": null,
   "metadata": {
    "scrolled": true
   },
   "outputs": [],
   "source": [
    "# Find solutions that minimize each objective\n",
    "min_cost_idx = np.argmin(res.F[:, 0])\n",
    "min_makespan_idx = np.argmin(res.F[:, 1])\n",
    "min_tardiness_idx = np.argmin(res.F[:, 2])\n",
    "\n",
    "# Find a compromise solution (use normalized Euclidean distance from ideal point)\n",
    "ideal_point = np.min(res.F, axis=0)\n",
    "nadir_point = np.max(res.F, axis=0)\n",
    "normalized_F = (res.F - ideal_point) / (nadir_point - ideal_point)\n",
    "distances = np.linalg.norm(normalized_F, axis=1)\n",
    "compromise_idx = np.argmin(distances)\n",
    "\n",
    "# Extract the solution details\n",
    "solutions = [\n",
    "    (\"Cost-focused\", res.X[min_cost_idx]),\n",
    "    (\"Makespan-focused\", res.X[min_makespan_idx]),\n",
    "    (\"Tardiness-focused\", res.X[min_tardiness_idx]),\n",
    "    (\"Compromise\", res.X[compromise_idx])\n",
    "]\n",
    "\n",
    "# Analyze and display each solution\n",
    "print(\"\\nRepresentative Solutions from the Pareto Front:\\n\")\n",
    "print(\"Solution Type | Production Cost | Makespan (days) | Tardiness (days) | Batch Sizes | Sequence\")\n",
    "print(\"-\" * 110)\n",
    "\n",
    "for name, x in solutions:\n",
    "    batch_sizes, sequence = decode_solution(x)\n",
    "    cost = problem._calculate_production_cost(batch_sizes, sequence)\n",
    "    span = problem._calculate_makespan(batch_sizes, sequence)\n",
    "    tardy = problem._calculate_tardiness(batch_sizes, sequence)\n",
    "    \n",
    "    makespan_days = span / (HOURS_PER_DAY * 60)\n",
    "    \n",
    "    batch_str = \", \".join([f\"P{i+1}:{batch_sizes[i]}\" for i in range(N_PRODUCTS)])\n",
    "    seq_str = \" → \".join([f\"P{i+1}\" for i in sequence if batch_sizes[i] > 0])\n",
    "    \n",
    "    print(f\"{name:15} | ${cost:14.2f} | {makespan_days:14.2f} | {tardy:16.2f} | {batch_str:21} | {seq_str}\")\n",
    "    "
   ]
  },
  {
   "cell_type": "code",
   "execution_count": null,
   "metadata": {},
   "outputs": [],
   "source": []
  }
 ],
 "metadata": {
  "@webio": {
   "lastCommId": null,
   "lastKernelId": null
  },
  "celltoolbar": "Slideshow",
  "kernelspec": {
   "display_name": "Python 3 (ipykernel)",
   "language": "python",
   "name": "python3"
  },
  "language_info": {
   "codemirror_mode": {
    "name": "ipython",
    "version": 3
   },
   "file_extension": ".py",
   "mimetype": "text/x-python",
   "name": "python",
   "nbconvert_exporter": "python",
   "pygments_lexer": "ipython3",
   "version": "3.10.16"
  }
 },
 "nbformat": 4,
 "nbformat_minor": 4
}
